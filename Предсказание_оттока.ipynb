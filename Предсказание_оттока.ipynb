{
  "nbformat": 4,
  "nbformat_minor": 0,
  "metadata": {
    "kernelspec": {
      "language": "python",
      "display_name": "Python 3",
      "name": "python3"
    },
    "language_info": {
      "pygments_lexer": "ipython3",
      "nbconvert_exporter": "python",
      "version": "3.6.4",
      "file_extension": ".py",
      "codemirror_mode": {
        "name": "ipython",
        "version": 3
      },
      "name": "python",
      "mimetype": "text/x-python"
    },
    "colab": {
      "name": "Предсказание оттока.ipynb",
      "provenance": []
    }
  },
  "cells": [
    {
      "cell_type": "markdown",
      "metadata": {
        "id": "IrDNNkNTEEYz"
      },
      "source": [
        "# Первая часть. Исследование"
      ]
    },
    {
      "cell_type": "code",
      "metadata": {
        "id": "lzLqEeZKEEYz",
        "execution": {
          "iopub.status.busy": "2021-11-07T15:21:39.765686Z",
          "iopub.execute_input": "2021-11-07T15:21:39.766455Z",
          "iopub.status.idle": "2021-11-07T15:21:39.770944Z",
          "shell.execute_reply.started": "2021-11-07T15:21:39.766343Z",
          "shell.execute_reply": "2021-11-07T15:21:39.770008Z"
        },
        "trusted": true
      },
      "source": [
        "import os\n",
        "import pandas as pd\n",
        "import numpy as np\n",
        "from matplotlib import pyplot as plt"
      ],
      "execution_count": null,
      "outputs": []
    },
    {
      "cell_type": "markdown",
      "metadata": {
        "id": "LOlxdURSEEY3"
      },
      "source": [
        "## Загрузка данных"
      ]
    },
    {
      "cell_type": "code",
      "metadata": {
        "execution": {
          "iopub.status.busy": "2021-11-07T15:21:39.772477Z",
          "iopub.execute_input": "2021-11-07T15:21:39.772972Z",
          "iopub.status.idle": "2021-11-07T15:21:39.788276Z",
          "shell.execute_reply.started": "2021-11-07T15:21:39.772938Z",
          "shell.execute_reply": "2021-11-07T15:21:39.787645Z"
        },
        "trusted": true,
        "colab": {
          "base_uri": "https://localhost:8080/"
        },
        "id": "LqJvR7KGBtfL",
        "outputId": "66c090df-0227-4fc6-8356-b8231125d9f2"
      },
      "source": [
        "from google.colab import drive\n",
        "drive.mount('/content/drive')"
      ],
      "execution_count": null,
      "outputs": [
        {
          "output_type": "stream",
          "name": "stdout",
          "text": [
            "Drive already mounted at /content/drive; to attempt to forcibly remount, call drive.mount(\"/content/drive\", force_remount=True).\n"
          ]
        }
      ]
    },
    {
      "cell_type": "code",
      "metadata": {
        "id": "pw-Brue9EEY3",
        "execution": {
          "iopub.status.busy": "2021-11-07T15:21:39.789399Z",
          "iopub.execute_input": "2021-11-07T15:21:39.790162Z",
          "iopub.status.idle": "2021-11-07T15:21:39.829590Z",
          "shell.execute_reply.started": "2021-11-07T15:21:39.790112Z",
          "shell.execute_reply": "2021-11-07T15:21:39.828764Z"
        },
        "trusted": true
      },
      "source": [
        "data = pd.read_csv('/content/drive/MyDrive/train.csv')\n",
        "data_test=pd.read_csv('/content/drive/MyDrive/test.csv')"
      ],
      "execution_count": null,
      "outputs": []
    },
    {
      "cell_type": "code",
      "metadata": {
        "id": "KgnkkF5bEEY9",
        "execution": {
          "iopub.status.busy": "2021-11-07T15:21:39.831961Z",
          "iopub.execute_input": "2021-11-07T15:21:39.832372Z",
          "iopub.status.idle": "2021-11-07T15:21:39.838876Z",
          "shell.execute_reply.started": "2021-11-07T15:21:39.832325Z",
          "shell.execute_reply": "2021-11-07T15:21:39.838109Z"
        },
        "trusted": true
      },
      "source": [
        "# Числовые признаки\n",
        "num_cols = [\n",
        "    'ClientPeriod',\n",
        "    'MonthlySpending',\n",
        "    'TotalSpent'\n",
        "]\n",
        "\n",
        "# Категориальные признаки\n",
        "cat_cols = [\n",
        "    'Sex',\n",
        "    'IsSeniorCitizen',\n",
        "    'HasPartner',\n",
        "    'HasChild',\n",
        "    'HasPhoneService',\n",
        "    'HasMultiplePhoneNumbers',\n",
        "    'HasInternetService',\n",
        "    'HasOnlineSecurityService',\n",
        "    'HasOnlineBackup',\n",
        "    'HasDeviceProtection',\n",
        "    'HasTechSupportAccess',\n",
        "    'HasOnlineTV',\n",
        "    'HasMovieSubscription',\n",
        "    'HasContractPhone',\n",
        "    'IsBillingPaperless',\n",
        "    'PaymentMethod'\n",
        "]\n",
        "\n",
        "feature_cols = num_cols + cat_cols\n",
        "target_col = 'Churn'"
      ],
      "execution_count": null,
      "outputs": []
    },
    {
      "cell_type": "markdown",
      "metadata": {
        "id": "yLJz3KgEBtfO"
      },
      "source": [
        "Посмотрим на случайные данные"
      ]
    },
    {
      "cell_type": "code",
      "metadata": {
        "id": "or8KBvvIEz85",
        "execution": {
          "iopub.status.busy": "2021-11-07T15:21:39.839985Z",
          "iopub.execute_input": "2021-11-07T15:21:39.840311Z",
          "iopub.status.idle": "2021-11-07T15:21:39.877960Z",
          "shell.execute_reply.started": "2021-11-07T15:21:39.840283Z",
          "shell.execute_reply": "2021-11-07T15:21:39.877067Z"
        },
        "trusted": true,
        "colab": {
          "base_uri": "https://localhost:8080/",
          "height": 309
        },
        "outputId": "9763e0da-51f1-44b4-9446-d218b85ff8f5"
      },
      "source": [
        "data.sample(5)"
      ],
      "execution_count": null,
      "outputs": [
        {
          "output_type": "execute_result",
          "data": {
            "text/html": [
              "<div>\n",
              "<style scoped>\n",
              "    .dataframe tbody tr th:only-of-type {\n",
              "        vertical-align: middle;\n",
              "    }\n",
              "\n",
              "    .dataframe tbody tr th {\n",
              "        vertical-align: top;\n",
              "    }\n",
              "\n",
              "    .dataframe thead th {\n",
              "        text-align: right;\n",
              "    }\n",
              "</style>\n",
              "<table border=\"1\" class=\"dataframe\">\n",
              "  <thead>\n",
              "    <tr style=\"text-align: right;\">\n",
              "      <th></th>\n",
              "      <th>ClientPeriod</th>\n",
              "      <th>MonthlySpending</th>\n",
              "      <th>TotalSpent</th>\n",
              "      <th>Sex</th>\n",
              "      <th>IsSeniorCitizen</th>\n",
              "      <th>HasPartner</th>\n",
              "      <th>HasChild</th>\n",
              "      <th>HasPhoneService</th>\n",
              "      <th>HasMultiplePhoneNumbers</th>\n",
              "      <th>HasInternetService</th>\n",
              "      <th>HasOnlineSecurityService</th>\n",
              "      <th>HasOnlineBackup</th>\n",
              "      <th>HasDeviceProtection</th>\n",
              "      <th>HasTechSupportAccess</th>\n",
              "      <th>HasOnlineTV</th>\n",
              "      <th>HasMovieSubscription</th>\n",
              "      <th>HasContractPhone</th>\n",
              "      <th>IsBillingPaperless</th>\n",
              "      <th>PaymentMethod</th>\n",
              "      <th>Churn</th>\n",
              "    </tr>\n",
              "  </thead>\n",
              "  <tbody>\n",
              "    <tr>\n",
              "      <th>4636</th>\n",
              "      <td>71</td>\n",
              "      <td>24.65</td>\n",
              "      <td>1710.15</td>\n",
              "      <td>Female</td>\n",
              "      <td>0</td>\n",
              "      <td>Yes</td>\n",
              "      <td>No</td>\n",
              "      <td>Yes</td>\n",
              "      <td>Yes</td>\n",
              "      <td>No</td>\n",
              "      <td>No internet service</td>\n",
              "      <td>No internet service</td>\n",
              "      <td>No internet service</td>\n",
              "      <td>No internet service</td>\n",
              "      <td>No internet service</td>\n",
              "      <td>No internet service</td>\n",
              "      <td>Two year</td>\n",
              "      <td>Yes</td>\n",
              "      <td>Bank transfer (automatic)</td>\n",
              "      <td>0</td>\n",
              "    </tr>\n",
              "    <tr>\n",
              "      <th>5138</th>\n",
              "      <td>4</td>\n",
              "      <td>19.55</td>\n",
              "      <td>68.8</td>\n",
              "      <td>Male</td>\n",
              "      <td>0</td>\n",
              "      <td>Yes</td>\n",
              "      <td>Yes</td>\n",
              "      <td>Yes</td>\n",
              "      <td>No</td>\n",
              "      <td>No</td>\n",
              "      <td>No internet service</td>\n",
              "      <td>No internet service</td>\n",
              "      <td>No internet service</td>\n",
              "      <td>No internet service</td>\n",
              "      <td>No internet service</td>\n",
              "      <td>No internet service</td>\n",
              "      <td>Two year</td>\n",
              "      <td>No</td>\n",
              "      <td>Credit card (automatic)</td>\n",
              "      <td>0</td>\n",
              "    </tr>\n",
              "    <tr>\n",
              "      <th>832</th>\n",
              "      <td>12</td>\n",
              "      <td>25.25</td>\n",
              "      <td>274.7</td>\n",
              "      <td>Female</td>\n",
              "      <td>0</td>\n",
              "      <td>Yes</td>\n",
              "      <td>Yes</td>\n",
              "      <td>Yes</td>\n",
              "      <td>Yes</td>\n",
              "      <td>No</td>\n",
              "      <td>No internet service</td>\n",
              "      <td>No internet service</td>\n",
              "      <td>No internet service</td>\n",
              "      <td>No internet service</td>\n",
              "      <td>No internet service</td>\n",
              "      <td>No internet service</td>\n",
              "      <td>Two year</td>\n",
              "      <td>No</td>\n",
              "      <td>Credit card (automatic)</td>\n",
              "      <td>0</td>\n",
              "    </tr>\n",
              "    <tr>\n",
              "      <th>4939</th>\n",
              "      <td>13</td>\n",
              "      <td>67.80</td>\n",
              "      <td>842.25</td>\n",
              "      <td>Female</td>\n",
              "      <td>0</td>\n",
              "      <td>No</td>\n",
              "      <td>No</td>\n",
              "      <td>Yes</td>\n",
              "      <td>No</td>\n",
              "      <td>DSL</td>\n",
              "      <td>Yes</td>\n",
              "      <td>Yes</td>\n",
              "      <td>No</td>\n",
              "      <td>Yes</td>\n",
              "      <td>No</td>\n",
              "      <td>Yes</td>\n",
              "      <td>Month-to-month</td>\n",
              "      <td>No</td>\n",
              "      <td>Bank transfer (automatic)</td>\n",
              "      <td>0</td>\n",
              "    </tr>\n",
              "    <tr>\n",
              "      <th>4946</th>\n",
              "      <td>42</td>\n",
              "      <td>73.90</td>\n",
              "      <td>3160.55</td>\n",
              "      <td>Female</td>\n",
              "      <td>0</td>\n",
              "      <td>No</td>\n",
              "      <td>No</td>\n",
              "      <td>Yes</td>\n",
              "      <td>No</td>\n",
              "      <td>DSL</td>\n",
              "      <td>Yes</td>\n",
              "      <td>Yes</td>\n",
              "      <td>Yes</td>\n",
              "      <td>Yes</td>\n",
              "      <td>No</td>\n",
              "      <td>Yes</td>\n",
              "      <td>One year</td>\n",
              "      <td>No</td>\n",
              "      <td>Credit card (automatic)</td>\n",
              "      <td>1</td>\n",
              "    </tr>\n",
              "  </tbody>\n",
              "</table>\n",
              "</div>"
            ],
            "text/plain": [
              "      ClientPeriod  MonthlySpending  ...              PaymentMethod Churn\n",
              "4636            71            24.65  ...  Bank transfer (automatic)     0\n",
              "5138             4            19.55  ...    Credit card (automatic)     0\n",
              "832             12            25.25  ...    Credit card (automatic)     0\n",
              "4939            13            67.80  ...  Bank transfer (automatic)     0\n",
              "4946            42            73.90  ...    Credit card (automatic)     1\n",
              "\n",
              "[5 rows x 20 columns]"
            ]
          },
          "metadata": {},
          "execution_count": 50
        }
      ]
    },
    {
      "cell_type": "markdown",
      "metadata": {
        "id": "uuyC8iLABtfQ"
      },
      "source": [
        "Посчитаем количество NaN и null в таблице"
      ]
    },
    {
      "cell_type": "code",
      "metadata": {
        "id": "Oc6iLTR_HZcf",
        "execution": {
          "iopub.status.busy": "2021-11-07T15:21:39.879347Z",
          "iopub.execute_input": "2021-11-07T15:21:39.879606Z",
          "iopub.status.idle": "2021-11-07T15:21:39.910624Z",
          "shell.execute_reply.started": "2021-11-07T15:21:39.879576Z",
          "shell.execute_reply": "2021-11-07T15:21:39.909784Z"
        },
        "trusted": true,
        "colab": {
          "base_uri": "https://localhost:8080/"
        },
        "outputId": "9b172295-8e79-4297-eb0f-a110b265c180"
      },
      "source": [
        "data.isna().sum()+data.isnull().sum()"
      ],
      "execution_count": null,
      "outputs": [
        {
          "output_type": "execute_result",
          "data": {
            "text/plain": [
              "ClientPeriod                0\n",
              "MonthlySpending             0\n",
              "TotalSpent                  0\n",
              "Sex                         0\n",
              "IsSeniorCitizen             0\n",
              "HasPartner                  0\n",
              "HasChild                    0\n",
              "HasPhoneService             0\n",
              "HasMultiplePhoneNumbers     0\n",
              "HasInternetService          0\n",
              "HasOnlineSecurityService    0\n",
              "HasOnlineBackup             0\n",
              "HasDeviceProtection         0\n",
              "HasTechSupportAccess        0\n",
              "HasOnlineTV                 0\n",
              "HasMovieSubscription        0\n",
              "HasContractPhone            0\n",
              "IsBillingPaperless          0\n",
              "PaymentMethod               0\n",
              "Churn                       0\n",
              "dtype: int64"
            ]
          },
          "metadata": {},
          "execution_count": 51
        }
      ]
    },
    {
      "cell_type": "markdown",
      "metadata": {
        "id": "dK370bPCEEZD"
      },
      "source": [
        "## Анализ данных"
      ]
    },
    {
      "cell_type": "markdown",
      "metadata": {
        "id": "eLLdjWeeBtfS"
      },
      "source": [
        "Посмотрим разные величины у численных признаков"
      ]
    },
    {
      "cell_type": "code",
      "metadata": {
        "id": "2o6X7B96_Z33",
        "execution": {
          "iopub.status.busy": "2021-11-07T15:21:39.912478Z",
          "iopub.execute_input": "2021-11-07T15:21:39.913064Z",
          "iopub.status.idle": "2021-11-07T15:21:39.940220Z",
          "shell.execute_reply.started": "2021-11-07T15:21:39.913020Z",
          "shell.execute_reply": "2021-11-07T15:21:39.939571Z"
        },
        "trusted": true,
        "colab": {
          "base_uri": "https://localhost:8080/",
          "height": 297
        },
        "outputId": "6465507a-7ad0-421e-e3db-36cdafca2f5c"
      },
      "source": [
        "data.describe()"
      ],
      "execution_count": null,
      "outputs": [
        {
          "output_type": "execute_result",
          "data": {
            "text/html": [
              "<div>\n",
              "<style scoped>\n",
              "    .dataframe tbody tr th:only-of-type {\n",
              "        vertical-align: middle;\n",
              "    }\n",
              "\n",
              "    .dataframe tbody tr th {\n",
              "        vertical-align: top;\n",
              "    }\n",
              "\n",
              "    .dataframe thead th {\n",
              "        text-align: right;\n",
              "    }\n",
              "</style>\n",
              "<table border=\"1\" class=\"dataframe\">\n",
              "  <thead>\n",
              "    <tr style=\"text-align: right;\">\n",
              "      <th></th>\n",
              "      <th>ClientPeriod</th>\n",
              "      <th>MonthlySpending</th>\n",
              "      <th>IsSeniorCitizen</th>\n",
              "      <th>Churn</th>\n",
              "    </tr>\n",
              "  </thead>\n",
              "  <tbody>\n",
              "    <tr>\n",
              "      <th>count</th>\n",
              "      <td>5282.000000</td>\n",
              "      <td>5282.000000</td>\n",
              "      <td>5282.000000</td>\n",
              "      <td>5282.000000</td>\n",
              "    </tr>\n",
              "    <tr>\n",
              "      <th>mean</th>\n",
              "      <td>32.397009</td>\n",
              "      <td>64.924754</td>\n",
              "      <td>0.159409</td>\n",
              "      <td>0.262022</td>\n",
              "    </tr>\n",
              "    <tr>\n",
              "      <th>std</th>\n",
              "      <td>24.550326</td>\n",
              "      <td>30.176464</td>\n",
              "      <td>0.366092</td>\n",
              "      <td>0.439776</td>\n",
              "    </tr>\n",
              "    <tr>\n",
              "      <th>min</th>\n",
              "      <td>0.000000</td>\n",
              "      <td>18.250000</td>\n",
              "      <td>0.000000</td>\n",
              "      <td>0.000000</td>\n",
              "    </tr>\n",
              "    <tr>\n",
              "      <th>25%</th>\n",
              "      <td>9.000000</td>\n",
              "      <td>35.462500</td>\n",
              "      <td>0.000000</td>\n",
              "      <td>0.000000</td>\n",
              "    </tr>\n",
              "    <tr>\n",
              "      <th>50%</th>\n",
              "      <td>29.000000</td>\n",
              "      <td>70.400000</td>\n",
              "      <td>0.000000</td>\n",
              "      <td>0.000000</td>\n",
              "    </tr>\n",
              "    <tr>\n",
              "      <th>75%</th>\n",
              "      <td>55.000000</td>\n",
              "      <td>90.050000</td>\n",
              "      <td>0.000000</td>\n",
              "      <td>1.000000</td>\n",
              "    </tr>\n",
              "    <tr>\n",
              "      <th>max</th>\n",
              "      <td>72.000000</td>\n",
              "      <td>118.750000</td>\n",
              "      <td>1.000000</td>\n",
              "      <td>1.000000</td>\n",
              "    </tr>\n",
              "  </tbody>\n",
              "</table>\n",
              "</div>"
            ],
            "text/plain": [
              "       ClientPeriod  MonthlySpending  IsSeniorCitizen        Churn\n",
              "count   5282.000000      5282.000000      5282.000000  5282.000000\n",
              "mean      32.397009        64.924754         0.159409     0.262022\n",
              "std       24.550326        30.176464         0.366092     0.439776\n",
              "min        0.000000        18.250000         0.000000     0.000000\n",
              "25%        9.000000        35.462500         0.000000     0.000000\n",
              "50%       29.000000        70.400000         0.000000     0.000000\n",
              "75%       55.000000        90.050000         0.000000     1.000000\n",
              "max       72.000000       118.750000         1.000000     1.000000"
            ]
          },
          "metadata": {},
          "execution_count": 52
        }
      ]
    },
    {
      "cell_type": "markdown",
      "metadata": {
        "id": "ToFtJ144_Jhq"
      },
      "source": [
        "В столбце TotalSpent есть какие-то нечисловые значения, потому что в .describe() этот столбец не отобразился. Сначала заменим их на Nan, потом заполним все NaN средними значениями."
      ]
    },
    {
      "cell_type": "code",
      "metadata": {
        "id": "W_ZoKjUGWPZf",
        "execution": {
          "iopub.status.busy": "2021-11-07T15:21:39.941566Z",
          "iopub.execute_input": "2021-11-07T15:21:39.944474Z",
          "iopub.status.idle": "2021-11-07T15:21:39.957677Z",
          "shell.execute_reply.started": "2021-11-07T15:21:39.944437Z",
          "shell.execute_reply": "2021-11-07T15:21:39.956880Z"
        },
        "trusted": true
      },
      "source": [
        "TotalSpent=pd.to_numeric(data['TotalSpent'], errors='coerce')\n",
        "data['TotalSpent']=TotalSpent.fillna(TotalSpent.mean())\n",
        "TotalSpent=pd.to_numeric(data_test['TotalSpent'], errors='coerce')\n",
        "data_test['TotalSpent']=TotalSpent.fillna(TotalSpent.mean())"
      ],
      "execution_count": null,
      "outputs": []
    },
    {
      "cell_type": "code",
      "metadata": {
        "id": "NZkbgFJZEEZE",
        "execution": {
          "iopub.status.busy": "2021-11-07T15:21:39.960708Z",
          "iopub.execute_input": "2021-11-07T15:21:39.961482Z",
          "iopub.status.idle": "2021-11-07T15:21:40.660261Z",
          "shell.execute_reply.started": "2021-11-07T15:21:39.961420Z",
          "shell.execute_reply": "2021-11-07T15:21:40.659378Z"
        },
        "trusted": true,
        "colab": {
          "base_uri": "https://localhost:8080/",
          "height": 353
        },
        "outputId": "2acd491e-9843-4c4c-ae98-6e6266c61038"
      },
      "source": [
        "fig, ax = plt.subplots(1, 4, figsize=(25,5))\n",
        "for i, col in enumerate(num_cols):\n",
        "  ax[i].set_title(col)\n",
        "  ax[i].hist(data[col].values)\n",
        "ax[3].boxplot(data[num_cols].transpose())\n",
        "0"
      ],
      "execution_count": null,
      "outputs": [
        {
          "output_type": "execute_result",
          "data": {
            "text/plain": [
              "0"
            ]
          },
          "metadata": {},
          "execution_count": 54
        },
        {
          "output_type": "display_data",
          "data": {
            "image/png": "[encoded data removed]",
            "text/plain": [
              "<Figure size 1800x360 with 4 Axes>"
            ]
          },
          "metadata": {
            "needs_background": "light"
          }
        }
      ]
    },
    {
      "cell_type": "markdown",
      "metadata": {
        "id": "zg60u3QDEEZH"
      },
      "source": [
        "Построим диаграммы для каждого типа данных"
      ]
    },
    {
      "cell_type": "code",
      "metadata": {
        "id": "fwfksF1gEEZI",
        "execution": {
          "iopub.status.busy": "2021-11-07T15:21:40.661424Z",
          "iopub.execute_input": "2021-11-07T15:21:40.661757Z",
          "iopub.status.idle": "2021-11-07T15:21:43.294361Z",
          "shell.execute_reply.started": "2021-11-07T15:21:40.661725Z",
          "shell.execute_reply": "2021-11-07T15:21:43.293558Z"
        },
        "trusted": true,
        "colab": {
          "base_uri": "https://localhost:8080/",
          "height": 1000
        },
        "outputId": "7f95c1d6-66f1-46a6-c4a4-7f7667e26d08"
      },
      "source": [
        "fig, ax = plt.subplots(4, 4, figsize=(25,20))\n",
        "ax=ax.ravel()\n",
        "for i, col in enumerate(cat_cols):\n",
        "  ax[i].set_title(col)\n",
        "  arr=data[col].value_counts()\n",
        "  ax[i].pie(arr)\n",
        "  ax[i].legend(data[col].unique())"
      ],
      "execution_count": null,
      "outputs": [
        {
          "output_type": "display_data",
          "data": {
            "image/png": "[encoded data removed]",
            "text/plain": [
              "<Figure size 1800x1440 with 16 Axes>"
            ]
          },
          "metadata": {}
        }
      ]
    },
    {
      "cell_type": "markdown",
      "metadata": {
        "id": "tEsy9J06BtfV"
      },
      "source": [
        "Посмотрим сбалансированность target переменной"
      ]
    },
    {
      "cell_type": "code",
      "metadata": {
        "id": "eINrkHyEwvDj",
        "execution": {
          "iopub.status.busy": "2021-11-07T15:21:43.295617Z",
          "iopub.execute_input": "2021-11-07T15:21:43.295856Z",
          "iopub.status.idle": "2021-11-07T15:21:43.453924Z",
          "shell.execute_reply.started": "2021-11-07T15:21:43.295826Z",
          "shell.execute_reply": "2021-11-07T15:21:43.452962Z"
        },
        "trusted": true,
        "colab": {
          "base_uri": "https://localhost:8080/",
          "height": 320
        },
        "outputId": "7bb63111-7efd-4348-8377-2e06a57bf78e"
      },
      "source": [
        "plt.figure(figsize=(5,5))\n",
        "plt.pie(data[target_col].value_counts())\n",
        "plt.legend(data[target_col].unique())"
      ],
      "execution_count": null,
      "outputs": [
        {
          "output_type": "execute_result",
          "data": {
            "text/plain": [
              "<matplotlib.legend.Legend at 0x7f0d9785d810>"
            ]
          },
          "metadata": {},
          "execution_count": 56
        },
        {
          "output_type": "display_data",
          "data": {
            "image/png": "[encoded data removed]",
            "text/plain": [
              "<Figure size 360x360 with 1 Axes>"
            ]
          },
          "metadata": {}
        }
      ]
    },
    {
      "cell_type": "markdown",
      "metadata": {
        "id": "DviiJd8REEZK"
      },
      "source": [
        "## Применение линейных моделей"
      ]
    },
    {
      "cell_type": "code",
      "metadata": {
        "id": "xHCLDmwqEEZL",
        "execution": {
          "iopub.status.busy": "2021-11-07T15:21:43.457614Z",
          "iopub.execute_input": "2021-11-07T15:21:43.457879Z",
          "iopub.status.idle": "2021-11-07T15:21:43.463273Z",
          "shell.execute_reply.started": "2021-11-07T15:21:43.457842Z",
          "shell.execute_reply": "2021-11-07T15:21:43.462399Z"
        },
        "trusted": true
      },
      "source": [
        "from sklearn.linear_model import LogisticRegression, LogisticRegressionCV, LinearRegression\n",
        "from sklearn.model_selection import train_test_split, GridSearchCV\n",
        "from sklearn.preprocessing import StandardScaler, RobustScaler, LabelEncoder, OneHotEncoder\n",
        "from sklearn.pipeline import make_pipeline\n",
        "from sklearn.neighbors import KNeighborsClassifier\n",
        "from sklearn.tree import DecisionTreeClassifier"
      ],
      "execution_count": null,
      "outputs": []
    },
    {
      "cell_type": "markdown",
      "metadata": {
        "id": "kLMKxKqcAIIz"
      },
      "source": [
        "Применяем one-hot encoding. Также копируем начальные данные в отдельные переменные, потому что данные будут меняться."
      ]
    },
    {
      "cell_type": "code",
      "metadata": {
        "id": "TRbMaMhV3Pin",
        "execution": {
          "iopub.status.busy": "2021-11-07T15:21:43.464586Z",
          "iopub.execute_input": "2021-11-07T15:21:43.464910Z",
          "iopub.status.idle": "2021-11-07T15:21:43.521145Z",
          "shell.execute_reply.started": "2021-11-07T15:21:43.464879Z",
          "shell.execute_reply": "2021-11-07T15:21:43.520474Z"
        },
        "trusted": true
      },
      "source": [
        "data_cat=pd.get_dummies(data[cat_cols], drop_first=True)\n",
        "data_test_cat=pd.get_dummies(data_test[cat_cols], drop_first=True)\n",
        "y=data[target_col]\n",
        "\n",
        "data_origin=data.iloc[:]\n",
        "data_test_origin=data_test.iloc[:]\n",
        "\n",
        "data=pd.concat([data[num_cols],data_cat],axis=1)\n",
        "data_test=pd.concat([data_test[num_cols],data_test_cat],axis=1)"
      ],
      "execution_count": null,
      "outputs": []
    },
    {
      "cell_type": "markdown",
      "metadata": {
        "id": "gEtCr6fRBtfX"
      },
      "source": [
        "Разбиваем тренировочные данные на тренировочную и тестовую подвыборки"
      ]
    },
    {
      "cell_type": "code",
      "metadata": {
        "id": "P2Yv3uYtEEZO",
        "execution": {
          "iopub.status.busy": "2021-11-07T15:21:43.522217Z",
          "iopub.execute_input": "2021-11-07T15:21:43.522559Z",
          "iopub.status.idle": "2021-11-07T15:21:43.528723Z",
          "shell.execute_reply.started": "2021-11-07T15:21:43.522530Z",
          "shell.execute_reply": "2021-11-07T15:21:43.528047Z"
        },
        "trusted": true
      },
      "source": [
        "X_train, X_test, y_train, y_test = train_test_split(data, y, train_size=0.8)"
      ],
      "execution_count": null,
      "outputs": []
    },
    {
      "cell_type": "markdown",
      "metadata": {
        "id": "aVmCYYdvAKcH"
      },
      "source": [
        "Производим нормирование числовых данных"
      ]
    },
    {
      "cell_type": "code",
      "metadata": {
        "id": "Vf22YhkifAmY",
        "execution": {
          "iopub.status.busy": "2021-11-07T15:21:43.529996Z",
          "iopub.execute_input": "2021-11-07T15:21:43.530371Z",
          "iopub.status.idle": "2021-11-07T15:21:43.570205Z",
          "shell.execute_reply.started": "2021-11-07T15:21:43.530340Z",
          "shell.execute_reply": "2021-11-07T15:21:43.569635Z"
        },
        "trusted": true,
        "colab": {
          "base_uri": "https://localhost:8080/",
          "height": 881
        },
        "outputId": "b239e1b2-bcec-44ad-e141-cef7df01bd4e"
      },
      "source": [
        "scaler = StandardScaler()\n",
        "X_train[num_cols] = scaler.fit_transform(X_train[num_cols])\n",
        "X_test[num_cols] = scaler.transform(X_test[num_cols])\n",
        "X_train"
      ],
      "execution_count": null,
      "outputs": [
        {
          "output_type": "stream",
          "name": "stderr",
          "text": [
            "/usr/local/lib/python3.7/dist-packages/ipykernel_launcher.py:2: SettingWithCopyWarning: \n",
            "A value is trying to be set on a copy of a slice from a DataFrame.\n",
            "Try using .loc[row_indexer,col_indexer] = value instead\n",
            "\n",
            "See the caveats in the documentation: https://pandas.pydata.org/pandas-docs/stable/user_guide/indexing.html#returning-a-view-versus-a-copy\n",
            "  \n",
            "/usr/local/lib/python3.7/dist-packages/pandas/core/indexing.py:1734: SettingWithCopyWarning: \n",
            "A value is trying to be set on a copy of a slice from a DataFrame.\n",
            "Try using .loc[row_indexer,col_indexer] = value instead\n",
            "\n",
            "See the caveats in the documentation: https://pandas.pydata.org/pandas-docs/stable/user_guide/indexing.html#returning-a-view-versus-a-copy\n",
            "  isetter(loc, value[:, i].tolist())\n",
            "/usr/local/lib/python3.7/dist-packages/ipykernel_launcher.py:3: SettingWithCopyWarning: \n",
            "A value is trying to be set on a copy of a slice from a DataFrame.\n",
            "Try using .loc[row_indexer,col_indexer] = value instead\n",
            "\n",
            "See the caveats in the documentation: https://pandas.pydata.org/pandas-docs/stable/user_guide/indexing.html#returning-a-view-versus-a-copy\n",
            "  This is separate from the ipykernel package so we can avoid doing imports until\n",
            "/usr/local/lib/python3.7/dist-packages/pandas/core/indexing.py:1734: SettingWithCopyWarning: \n",
            "A value is trying to be set on a copy of a slice from a DataFrame.\n",
            "Try using .loc[row_indexer,col_indexer] = value instead\n",
            "\n",
            "See the caveats in the documentation: https://pandas.pydata.org/pandas-docs/stable/user_guide/indexing.html#returning-a-view-versus-a-copy\n",
            "  isetter(loc, value[:, i].tolist())\n"
          ]
        },
        {
          "output_type": "execute_result",
          "data": {
            "text/html": [
              "<div>\n",
              "<style scoped>\n",
              "    .dataframe tbody tr th:only-of-type {\n",
              "        vertical-align: middle;\n",
              "    }\n",
              "\n",
              "    .dataframe tbody tr th {\n",
              "        vertical-align: top;\n",
              "    }\n",
              "\n",
              "    .dataframe thead th {\n",
              "        text-align: right;\n",
              "    }\n",
              "</style>\n",
              "<table border=\"1\" class=\"dataframe\">\n",
              "  <thead>\n",
              "    <tr style=\"text-align: right;\">\n",
              "      <th></th>\n",
              "      <th>ClientPeriod</th>\n",
              "      <th>MonthlySpending</th>\n",
              "      <th>TotalSpent</th>\n",
              "      <th>IsSeniorCitizen</th>\n",
              "      <th>Sex_Male</th>\n",
              "      <th>HasPartner_Yes</th>\n",
              "      <th>HasChild_Yes</th>\n",
              "      <th>HasPhoneService_Yes</th>\n",
              "      <th>HasMultiplePhoneNumbers_No phone service</th>\n",
              "      <th>HasMultiplePhoneNumbers_Yes</th>\n",
              "      <th>HasInternetService_Fiber optic</th>\n",
              "      <th>HasInternetService_No</th>\n",
              "      <th>HasOnlineSecurityService_No internet service</th>\n",
              "      <th>HasOnlineSecurityService_Yes</th>\n",
              "      <th>HasOnlineBackup_No internet service</th>\n",
              "      <th>HasOnlineBackup_Yes</th>\n",
              "      <th>HasDeviceProtection_No internet service</th>\n",
              "      <th>HasDeviceProtection_Yes</th>\n",
              "      <th>HasTechSupportAccess_No internet service</th>\n",
              "      <th>HasTechSupportAccess_Yes</th>\n",
              "      <th>HasOnlineTV_No internet service</th>\n",
              "      <th>HasOnlineTV_Yes</th>\n",
              "      <th>HasMovieSubscription_No internet service</th>\n",
              "      <th>HasMovieSubscription_Yes</th>\n",
              "      <th>HasContractPhone_One year</th>\n",
              "      <th>HasContractPhone_Two year</th>\n",
              "      <th>IsBillingPaperless_Yes</th>\n",
              "      <th>PaymentMethod_Credit card (automatic)</th>\n",
              "      <th>PaymentMethod_Electronic check</th>\n",
              "      <th>PaymentMethod_Mailed check</th>\n",
              "    </tr>\n",
              "  </thead>\n",
              "  <tbody>\n",
              "    <tr>\n",
              "      <th>2386</th>\n",
              "      <td>-1.089337</td>\n",
              "      <td>-1.501970</td>\n",
              "      <td>-0.976988</td>\n",
              "      <td>0</td>\n",
              "      <td>0</td>\n",
              "      <td>1</td>\n",
              "      <td>1</td>\n",
              "      <td>1</td>\n",
              "      <td>0</td>\n",
              "      <td>0</td>\n",
              "      <td>0</td>\n",
              "      <td>1</td>\n",
              "      <td>1</td>\n",
              "      <td>0</td>\n",
              "      <td>1</td>\n",
              "      <td>0</td>\n",
              "      <td>1</td>\n",
              "      <td>0</td>\n",
              "      <td>1</td>\n",
              "      <td>0</td>\n",
              "      <td>1</td>\n",
              "      <td>0</td>\n",
              "      <td>1</td>\n",
              "      <td>0</td>\n",
              "      <td>1</td>\n",
              "      <td>0</td>\n",
              "      <td>0</td>\n",
              "      <td>0</td>\n",
              "      <td>0</td>\n",
              "      <td>1</td>\n",
              "    </tr>\n",
              "    <tr>\n",
              "      <th>380</th>\n",
              "      <td>-0.844511</td>\n",
              "      <td>0.465096</td>\n",
              "      <td>-0.604481</td>\n",
              "      <td>1</td>\n",
              "      <td>0</td>\n",
              "      <td>1</td>\n",
              "      <td>0</td>\n",
              "      <td>1</td>\n",
              "      <td>0</td>\n",
              "      <td>0</td>\n",
              "      <td>0</td>\n",
              "      <td>0</td>\n",
              "      <td>0</td>\n",
              "      <td>1</td>\n",
              "      <td>0</td>\n",
              "      <td>0</td>\n",
              "      <td>0</td>\n",
              "      <td>1</td>\n",
              "      <td>0</td>\n",
              "      <td>1</td>\n",
              "      <td>0</td>\n",
              "      <td>1</td>\n",
              "      <td>0</td>\n",
              "      <td>1</td>\n",
              "      <td>1</td>\n",
              "      <td>0</td>\n",
              "      <td>1</td>\n",
              "      <td>0</td>\n",
              "      <td>1</td>\n",
              "      <td>0</td>\n",
              "    </tr>\n",
              "    <tr>\n",
              "      <th>2990</th>\n",
              "      <td>0.502034</td>\n",
              "      <td>-0.470500</td>\n",
              "      <td>0.005108</td>\n",
              "      <td>0</td>\n",
              "      <td>0</td>\n",
              "      <td>1</td>\n",
              "      <td>1</td>\n",
              "      <td>0</td>\n",
              "      <td>1</td>\n",
              "      <td>0</td>\n",
              "      <td>0</td>\n",
              "      <td>0</td>\n",
              "      <td>0</td>\n",
              "      <td>1</td>\n",
              "      <td>0</td>\n",
              "      <td>0</td>\n",
              "      <td>0</td>\n",
              "      <td>0</td>\n",
              "      <td>0</td>\n",
              "      <td>0</td>\n",
              "      <td>0</td>\n",
              "      <td>1</td>\n",
              "      <td>0</td>\n",
              "      <td>1</td>\n",
              "      <td>0</td>\n",
              "      <td>0</td>\n",
              "      <td>1</td>\n",
              "      <td>0</td>\n",
              "      <td>0</td>\n",
              "      <td>0</td>\n",
              "    </tr>\n",
              "    <tr>\n",
              "      <th>2038</th>\n",
              "      <td>0.665252</td>\n",
              "      <td>1.007278</td>\n",
              "      <td>1.079409</td>\n",
              "      <td>0</td>\n",
              "      <td>0</td>\n",
              "      <td>1</td>\n",
              "      <td>1</td>\n",
              "      <td>1</td>\n",
              "      <td>0</td>\n",
              "      <td>1</td>\n",
              "      <td>1</td>\n",
              "      <td>0</td>\n",
              "      <td>0</td>\n",
              "      <td>0</td>\n",
              "      <td>0</td>\n",
              "      <td>0</td>\n",
              "      <td>0</td>\n",
              "      <td>0</td>\n",
              "      <td>0</td>\n",
              "      <td>0</td>\n",
              "      <td>0</td>\n",
              "      <td>1</td>\n",
              "      <td>0</td>\n",
              "      <td>1</td>\n",
              "      <td>0</td>\n",
              "      <td>0</td>\n",
              "      <td>1</td>\n",
              "      <td>0</td>\n",
              "      <td>1</td>\n",
              "      <td>0</td>\n",
              "    </tr>\n",
              "    <tr>\n",
              "      <th>2277</th>\n",
              "      <td>1.114100</td>\n",
              "      <td>-0.153125</td>\n",
              "      <td>0.601803</td>\n",
              "      <td>0</td>\n",
              "      <td>1</td>\n",
              "      <td>1</td>\n",
              "      <td>1</td>\n",
              "      <td>1</td>\n",
              "      <td>0</td>\n",
              "      <td>0</td>\n",
              "      <td>0</td>\n",
              "      <td>0</td>\n",
              "      <td>0</td>\n",
              "      <td>1</td>\n",
              "      <td>0</td>\n",
              "      <td>1</td>\n",
              "      <td>0</td>\n",
              "      <td>1</td>\n",
              "      <td>0</td>\n",
              "      <td>0</td>\n",
              "      <td>0</td>\n",
              "      <td>0</td>\n",
              "      <td>0</td>\n",
              "      <td>0</td>\n",
              "      <td>0</td>\n",
              "      <td>1</td>\n",
              "      <td>0</td>\n",
              "      <td>0</td>\n",
              "      <td>0</td>\n",
              "      <td>0</td>\n",
              "    </tr>\n",
              "    <tr>\n",
              "      <th>...</th>\n",
              "      <td>...</td>\n",
              "      <td>...</td>\n",
              "      <td>...</td>\n",
              "      <td>...</td>\n",
              "      <td>...</td>\n",
              "      <td>...</td>\n",
              "      <td>...</td>\n",
              "      <td>...</td>\n",
              "      <td>...</td>\n",
              "      <td>...</td>\n",
              "      <td>...</td>\n",
              "      <td>...</td>\n",
              "      <td>...</td>\n",
              "      <td>...</td>\n",
              "      <td>...</td>\n",
              "      <td>...</td>\n",
              "      <td>...</td>\n",
              "      <td>...</td>\n",
              "      <td>...</td>\n",
              "      <td>...</td>\n",
              "      <td>...</td>\n",
              "      <td>...</td>\n",
              "      <td>...</td>\n",
              "      <td>...</td>\n",
              "      <td>...</td>\n",
              "      <td>...</td>\n",
              "      <td>...</td>\n",
              "      <td>...</td>\n",
              "      <td>...</td>\n",
              "      <td>...</td>\n",
              "    </tr>\n",
              "    <tr>\n",
              "      <th>3170</th>\n",
              "      <td>-1.293359</td>\n",
              "      <td>-0.515131</td>\n",
              "      <td>-0.996679</td>\n",
              "      <td>1</td>\n",
              "      <td>0</td>\n",
              "      <td>1</td>\n",
              "      <td>0</td>\n",
              "      <td>1</td>\n",
              "      <td>0</td>\n",
              "      <td>0</td>\n",
              "      <td>0</td>\n",
              "      <td>0</td>\n",
              "      <td>0</td>\n",
              "      <td>1</td>\n",
              "      <td>0</td>\n",
              "      <td>0</td>\n",
              "      <td>0</td>\n",
              "      <td>0</td>\n",
              "      <td>0</td>\n",
              "      <td>0</td>\n",
              "      <td>0</td>\n",
              "      <td>0</td>\n",
              "      <td>0</td>\n",
              "      <td>0</td>\n",
              "      <td>0</td>\n",
              "      <td>0</td>\n",
              "      <td>1</td>\n",
              "      <td>0</td>\n",
              "      <td>1</td>\n",
              "      <td>0</td>\n",
              "    </tr>\n",
              "    <tr>\n",
              "      <th>4500</th>\n",
              "      <td>1.603753</td>\n",
              "      <td>-1.349894</td>\n",
              "      <td>-0.238355</td>\n",
              "      <td>1</td>\n",
              "      <td>0</td>\n",
              "      <td>1</td>\n",
              "      <td>0</td>\n",
              "      <td>1</td>\n",
              "      <td>0</td>\n",
              "      <td>1</td>\n",
              "      <td>0</td>\n",
              "      <td>1</td>\n",
              "      <td>1</td>\n",
              "      <td>0</td>\n",
              "      <td>1</td>\n",
              "      <td>0</td>\n",
              "      <td>1</td>\n",
              "      <td>0</td>\n",
              "      <td>1</td>\n",
              "      <td>0</td>\n",
              "      <td>1</td>\n",
              "      <td>0</td>\n",
              "      <td>1</td>\n",
              "      <td>0</td>\n",
              "      <td>0</td>\n",
              "      <td>1</td>\n",
              "      <td>0</td>\n",
              "      <td>0</td>\n",
              "      <td>0</td>\n",
              "      <td>0</td>\n",
              "    </tr>\n",
              "    <tr>\n",
              "      <th>1832</th>\n",
              "      <td>-0.926120</td>\n",
              "      <td>1.161007</td>\n",
              "      <td>-0.551504</td>\n",
              "      <td>0</td>\n",
              "      <td>0</td>\n",
              "      <td>1</td>\n",
              "      <td>1</td>\n",
              "      <td>1</td>\n",
              "      <td>0</td>\n",
              "      <td>1</td>\n",
              "      <td>1</td>\n",
              "      <td>0</td>\n",
              "      <td>0</td>\n",
              "      <td>1</td>\n",
              "      <td>0</td>\n",
              "      <td>0</td>\n",
              "      <td>0</td>\n",
              "      <td>0</td>\n",
              "      <td>0</td>\n",
              "      <td>0</td>\n",
              "      <td>0</td>\n",
              "      <td>1</td>\n",
              "      <td>0</td>\n",
              "      <td>1</td>\n",
              "      <td>0</td>\n",
              "      <td>0</td>\n",
              "      <td>1</td>\n",
              "      <td>0</td>\n",
              "      <td>1</td>\n",
              "      <td>0</td>\n",
              "    </tr>\n",
              "    <tr>\n",
              "      <th>228</th>\n",
              "      <td>0.379621</td>\n",
              "      <td>0.045235</td>\n",
              "      <td>0.193203</td>\n",
              "      <td>0</td>\n",
              "      <td>0</td>\n",
              "      <td>0</td>\n",
              "      <td>0</td>\n",
              "      <td>1</td>\n",
              "      <td>0</td>\n",
              "      <td>0</td>\n",
              "      <td>0</td>\n",
              "      <td>0</td>\n",
              "      <td>0</td>\n",
              "      <td>0</td>\n",
              "      <td>0</td>\n",
              "      <td>0</td>\n",
              "      <td>0</td>\n",
              "      <td>1</td>\n",
              "      <td>0</td>\n",
              "      <td>1</td>\n",
              "      <td>0</td>\n",
              "      <td>0</td>\n",
              "      <td>0</td>\n",
              "      <td>1</td>\n",
              "      <td>0</td>\n",
              "      <td>1</td>\n",
              "      <td>0</td>\n",
              "      <td>1</td>\n",
              "      <td>0</td>\n",
              "      <td>0</td>\n",
              "    </tr>\n",
              "    <tr>\n",
              "      <th>1992</th>\n",
              "      <td>-1.293359</td>\n",
              "      <td>-1.316834</td>\n",
              "      <td>-1.007314</td>\n",
              "      <td>0</td>\n",
              "      <td>1</td>\n",
              "      <td>0</td>\n",
              "      <td>1</td>\n",
              "      <td>0</td>\n",
              "      <td>1</td>\n",
              "      <td>0</td>\n",
              "      <td>0</td>\n",
              "      <td>0</td>\n",
              "      <td>0</td>\n",
              "      <td>0</td>\n",
              "      <td>0</td>\n",
              "      <td>0</td>\n",
              "      <td>0</td>\n",
              "      <td>0</td>\n",
              "      <td>0</td>\n",
              "      <td>0</td>\n",
              "      <td>0</td>\n",
              "      <td>0</td>\n",
              "      <td>0</td>\n",
              "      <td>0</td>\n",
              "      <td>0</td>\n",
              "      <td>0</td>\n",
              "      <td>1</td>\n",
              "      <td>0</td>\n",
              "      <td>1</td>\n",
              "      <td>0</td>\n",
              "    </tr>\n",
              "  </tbody>\n",
              "</table>\n",
              "<p>4225 rows × 30 columns</p>\n",
              "</div>"
            ],
            "text/plain": [
              "      ClientPeriod  ...  PaymentMethod_Mailed check\n",
              "2386     -1.089337  ...                           1\n",
              "380      -0.844511  ...                           0\n",
              "2990      0.502034  ...                           0\n",
              "2038      0.665252  ...                           0\n",
              "2277      1.114100  ...                           0\n",
              "...            ...  ...                         ...\n",
              "3170     -1.293359  ...                           0\n",
              "4500      1.603753  ...                           0\n",
              "1832     -0.926120  ...                           0\n",
              "228       0.379621  ...                           0\n",
              "1992     -1.293359  ...                           0\n",
              "\n",
              "[4225 rows x 30 columns]"
            ]
          },
          "metadata": {},
          "execution_count": 60
        }
      ]
    },
    {
      "cell_type": "markdown",
      "metadata": {
        "id": "4IHd-l9rBtfZ"
      },
      "source": [
        "## Обучение моделей"
      ]
    },
    {
      "cell_type": "markdown",
      "metadata": {
        "id": "3okKPhApARCP"
      },
      "source": [
        "Обучаем сначала модели: логистическая регрессия, knn, решающее дерево. Обучаем методом подбора гиперпараметров по сетке."
      ]
    },
    {
      "cell_type": "markdown",
      "metadata": {
        "id": "mMk6zEv9Btfa"
      },
      "source": [
        "best - параметр, который будет показывать лучшую roc_auc среди моделей.\n",
        "Дальше по коду появится переменная best_model, которая показывает лучшую модель (неужели)"
      ]
    },
    {
      "cell_type": "code",
      "metadata": {
        "id": "GMXB-NiptJVl",
        "execution": {
          "iopub.status.busy": "2021-11-07T15:21:43.571109Z",
          "iopub.execute_input": "2021-11-07T15:21:43.571614Z",
          "iopub.status.idle": "2021-11-07T15:21:43.575200Z",
          "shell.execute_reply.started": "2021-11-07T15:21:43.571579Z",
          "shell.execute_reply": "2021-11-07T15:21:43.574607Z"
        },
        "trusted": true
      },
      "source": [
        "best=-1"
      ],
      "execution_count": null,
      "outputs": []
    },
    {
      "cell_type": "code",
      "metadata": {
        "id": "URgWl5pCe_iM",
        "_kg_hide-output": false,
        "_kg_hide-input": false,
        "trusted": true,
        "colab": {
          "base_uri": "https://localhost:8080/"
        },
        "outputId": "a1012792-5bb6-417d-a48d-62c055b0c952"
      },
      "source": [
        "grid=[0.001, 0.01, 0.1, 1, 10, 30, 50, 100]\n",
        "parameters={'C' : grid}\n",
        "Reg_model = GridSearchCV(estimator=LogisticRegression(), \n",
        "                            param_grid=parameters,\n",
        "                            cv=5, \n",
        "                            scoring='roc_auc',\n",
        "                            n_jobs=-1, \n",
        "                            refit=True,\n",
        "                            verbose=0)\n",
        "Reg_model.fit(data,y)\n",
        "print(\"train score =\",Reg_model.best_score_, \"| best parameter =\", Reg_model.best_params_)\n",
        "best=Reg_model.best_score_\n",
        "best_model=Reg_model"
      ],
      "execution_count": null,
      "outputs": [
        {
          "output_type": "stream",
          "name": "stdout",
          "text": [
            "train score = 0.8424747908739117 | best parameter = {'C': 50}\n"
          ]
        },
        {
          "output_type": "stream",
          "name": "stderr",
          "text": [
            "/usr/local/lib/python3.7/dist-packages/sklearn/linear_model/_logistic.py:940: ConvergenceWarning: lbfgs failed to converge (status=1):\n",
            "STOP: TOTAL NO. of ITERATIONS REACHED LIMIT.\n",
            "\n",
            "Increase the number of iterations (max_iter) or scale the data as shown in:\n",
            "    https://scikit-learn.org/stable/modules/preprocessing.html\n",
            "Please also refer to the documentation for alternative solver options:\n",
            "    https://scikit-learn.org/stable/modules/linear_model.html#logistic-regression\n",
            "  extra_warning_msg=_LOGISTIC_SOLVER_CONVERGENCE_MSG)\n"
          ]
        }
      ]
    },
    {
      "cell_type": "code",
      "metadata": {
        "ExecuteTime": {
          "end_time": "2020-10-11T11:21:23.221565Z",
          "start_time": "2020-10-11T11:21:23.212564Z"
        },
        "id": "kbWPU0hw5NKg",
        "execution": {
          "iopub.status.busy": "2021-11-07T15:22:09.393184Z",
          "iopub.execute_input": "2021-11-07T15:22:09.393584Z",
          "iopub.status.idle": "2021-11-07T15:22:10.513868Z",
          "shell.execute_reply.started": "2021-11-07T15:22:09.393537Z",
          "shell.execute_reply": "2021-11-07T15:22:10.513195Z"
        },
        "trusted": true,
        "colab": {
          "base_uri": "https://localhost:8080/"
        },
        "outputId": "286ebe76-114a-42ed-bd9e-8192bfd6af37"
      },
      "source": [
        "grid=np.linspace(4, 100, 10, dtype=int)\n",
        "parameters = {'n_neighbors': grid}\n",
        "KNN_model = GridSearchCV(estimator=KNeighborsClassifier(), \n",
        "                            param_grid=parameters,\n",
        "                            cv=5, \n",
        "                            scoring='roc_auc',\n",
        "                            n_jobs=-1, \n",
        "                            refit=True,\n",
        "                            verbose=0)\n",
        "KNN_model.fit(data,y)\n",
        "print(\"train score =\",KNN_model.best_score_, \"| best parameter =\", KNN_model.best_params_)\n",
        "\n",
        "if (best<KNN_model.best_score_): \n",
        "  best=KNN_model.best_score_\n",
        "  best_model=KNN_model"
      ],
      "execution_count": null,
      "outputs": [
        {
          "output_type": "stream",
          "name": "stdout",
          "text": [
            "train score = 0.7794512279636092 | best parameter = {'n_neighbors': 25}\n"
          ]
        }
      ]
    },
    {
      "cell_type": "code",
      "metadata": {
        "id": "5IifBBwegsCO",
        "execution": {
          "iopub.status.busy": "2021-11-07T15:22:10.854365Z",
          "iopub.execute_input": "2021-11-07T15:22:10.855020Z",
          "iopub.status.idle": "2021-11-07T15:22:13.333447Z",
          "shell.execute_reply.started": "2021-11-07T15:22:10.854972Z",
          "shell.execute_reply": "2021-11-07T15:22:13.332578Z"
        },
        "trusted": true,
        "colab": {
          "base_uri": "https://localhost:8080/"
        },
        "outputId": "8fde9816-36dd-4af5-f4e8-a71d81c89d09"
      },
      "source": [
        "grid=np.linspace(1, 30, dtype=int)\n",
        "parameters = {'max_depth': grid}\n",
        "Tree_model = GridSearchCV(estimator=DecisionTreeClassifier(), \n",
        "                            param_grid=parameters,\n",
        "                            cv=5, \n",
        "                            scoring='roc_auc',\n",
        "                            n_jobs=-1, \n",
        "                            refit=True,\n",
        "                            verbose=0)\n",
        "Tree_model.fit(data,y)\n",
        "print(\"train score =\",Tree_model.best_score_, \"| best parameter =\", Tree_model.best_params_)\n",
        "\n",
        "if (best<Tree_model.best_score_): \n",
        "  best=Tree_model.best_score_\n",
        "  best_model=Tree_model"
      ],
      "execution_count": null,
      "outputs": [
        {
          "output_type": "stream",
          "name": "stdout",
          "text": [
            "train score = 0.8203553714143533 | best parameter = {'max_depth': 5}\n"
          ]
        }
      ]
    },
    {
      "cell_type": "markdown",
      "metadata": {
        "id": "BlTeVy7fEEZR"
      },
      "source": [
        "## Применение градиентного бустинга catboost"
      ]
    },
    {
      "cell_type": "code",
      "metadata": {
        "id": "Fioxxlp-EEZS",
        "execution": {
          "iopub.status.busy": "2021-11-07T15:25:00.027678Z",
          "iopub.execute_input": "2021-11-07T15:25:00.028641Z",
          "iopub.status.idle": "2021-11-07T15:25:29.815329Z",
          "shell.execute_reply.started": "2021-11-07T15:25:00.028587Z",
          "shell.execute_reply": "2021-11-07T15:25:29.814236Z"
        },
        "trusted": true
      },
      "source": [
        "#!pip install catboost"
      ],
      "execution_count": null,
      "outputs": []
    },
    {
      "cell_type": "markdown",
      "metadata": {
        "id": "EUjE0bN-AozM"
      },
      "source": [
        "Сначала обычный бустинг с базовыми параметрами"
      ]
    },
    {
      "cell_type": "code",
      "metadata": {
        "id": "UeU_Xg_NqCha",
        "execution": {
          "iopub.status.busy": "2021-11-07T15:25:29.818169Z",
          "iopub.execute_input": "2021-11-07T15:25:29.818542Z",
          "iopub.status.idle": "2021-11-07T15:25:29.859021Z",
          "shell.execute_reply.started": "2021-11-07T15:25:29.818476Z",
          "shell.execute_reply": "2021-11-07T15:25:29.857815Z"
        },
        "trusted": true,
        "colab": {
          "base_uri": "https://localhost:8080/",
          "height": 231
        },
        "outputId": "c78f0874-fc29-4bfe-8342-47b5c33db21c"
      },
      "source": [
        "from catboost import CatBoostClassifier\n",
        "\n",
        "X_train, X_test, y_train, y_test = train_test_split(data_origin[num_cols+cat_cols], y, train_size=0.8)\n",
        "boosting_model = catboost.CatBoostClassifier(n_estimators=500,\n",
        "                                             cat_features=cat_cols,\n",
        "                                             eval_metric='AUC')\n",
        "boosting_model.fit(X_train, y_train, verbose=0)\n",
        "y_pred=boosting_model.predict_proba(X_test)[:,1]\n",
        "print(\"score =\",roc_auc_score(y_test, y_pred))\n",
        "if (best<roc_auc_score(y_test, y_pred)):\n",
        "  best=roc_auc_score(y_test, y_pred)\n",
        "  best_model=boosting_model"
      ],
      "execution_count": null,
      "outputs": [
        {
          "output_type": "error",
          "ename": "NameError",
          "evalue": "ignored",
          "traceback": [
            "\u001b[0;31m---------------------------------------------------------------------------\u001b[0m",
            "\u001b[0;31mNameError\u001b[0m                                 Traceback (most recent call last)",
            "\u001b[0;32m<ipython-input-66-4ac552d60c5a>\u001b[0m in \u001b[0;36m<module>\u001b[0;34m()\u001b[0m\n\u001b[1;32m      2\u001b[0m \u001b[0;34m\u001b[0m\u001b[0m\n\u001b[1;32m      3\u001b[0m \u001b[0mX_train\u001b[0m\u001b[0;34m,\u001b[0m \u001b[0mX_test\u001b[0m\u001b[0;34m,\u001b[0m \u001b[0my_train\u001b[0m\u001b[0;34m,\u001b[0m \u001b[0my_test\u001b[0m \u001b[0;34m=\u001b[0m \u001b[0mtrain_test_split\u001b[0m\u001b[0;34m(\u001b[0m\u001b[0mdata_origin\u001b[0m\u001b[0;34m[\u001b[0m\u001b[0mnum_cols\u001b[0m\u001b[0;34m+\u001b[0m\u001b[0mcat_cols\u001b[0m\u001b[0;34m]\u001b[0m\u001b[0;34m,\u001b[0m \u001b[0my\u001b[0m\u001b[0;34m,\u001b[0m \u001b[0mtrain_size\u001b[0m\u001b[0;34m=\u001b[0m\u001b[0;36m0.8\u001b[0m\u001b[0;34m)\u001b[0m\u001b[0;34m\u001b[0m\u001b[0;34m\u001b[0m\u001b[0m\n\u001b[0;32m----> 4\u001b[0;31m boosting_model = catboost.CatBoostClassifier(n_estimators=500,\n\u001b[0m\u001b[1;32m      5\u001b[0m                                              \u001b[0mcat_features\u001b[0m\u001b[0;34m=\u001b[0m\u001b[0mcat_cols\u001b[0m\u001b[0;34m,\u001b[0m\u001b[0;34m\u001b[0m\u001b[0;34m\u001b[0m\u001b[0m\n\u001b[1;32m      6\u001b[0m                                              eval_metric='AUC')\n",
            "\u001b[0;31mNameError\u001b[0m: name 'catboost' is not defined"
          ]
        }
      ]
    },
    {
      "cell_type": "markdown",
      "metadata": {
        "id": "hsAMPJllAs6E"
      },
      "source": [
        "Я попробовал GridSearchCV, но там вознилка проблема в самом устройстве catboost (он не мог одновременно менять параметры), поэтому я решил перебирать параметры по сетке с помощью grid_search"
      ]
    },
    {
      "cell_type": "code",
      "metadata": {
        "id": "mTiHrHr3ybV_",
        "execution": {
          "iopub.status.busy": "2021-11-07T15:25:29.860330Z",
          "iopub.status.idle": "2021-11-07T15:25:29.860750Z",
          "shell.execute_reply.started": "2021-11-07T15:25:29.860517Z",
          "shell.execute_reply": "2021-11-07T15:25:29.860545Z"
        },
        "trusted": true
      },
      "source": [
        "parameters={'max_depth':[3,4,5],\n",
        "            'iterations':[100,200,300],\n",
        "            'learning_rate':np.linspace(0,0.2,5)}\n",
        "\n",
        "boosting_model_v2 = CatBoostClassifier(cat_features=cat_cols,\n",
        "                                    verbose=0)\n",
        "\n",
        "res=boosting_model_v2.grid_search(parameters, X_train, y_train, verbose=0)\n",
        "y_pred=boosting_model_v2.predict_proba(X_test)[:,1]\n",
        "print(\"score =\",roc_auc_score(y_test,y_pred))\n",
        "if (best<roc_auc_score(y_test, y_pred)):\n",
        "  best=roc_auc_score(y_test, y_pred)\n",
        "  best_model=boosting_model_v2"
      ],
      "execution_count": null,
      "outputs": []
    },
    {
      "cell_type": "markdown",
      "metadata": {
        "id": "IVXc1NrIBtfd"
      },
      "source": [
        "Посмотрим теперь какое из всех моделей у нас получилось лучшее качество и у какой модели оно было"
      ]
    },
    {
      "cell_type": "code",
      "metadata": {
        "id": "mteSFm_W8ix7",
        "execution": {
          "iopub.status.busy": "2021-11-07T15:25:29.862053Z",
          "iopub.status.idle": "2021-11-07T15:25:29.862539Z",
          "shell.execute_reply.started": "2021-11-07T15:25:29.862262Z",
          "shell.execute_reply": "2021-11-07T15:25:29.862287Z"
        },
        "trusted": true
      },
      "source": [
        "print(best)\n",
        "print(best_model)"
      ],
      "execution_count": null,
      "outputs": []
    },
    {
      "cell_type": "markdown",
      "metadata": {
        "id": "dDMXbvNZEEZV"
      },
      "source": [
        "# Предсказания"
      ]
    },
    {
      "cell_type": "code",
      "metadata": {
        "id": "G_P4wFNaEEZW",
        "execution": {
          "iopub.status.busy": "2021-11-07T15:21:48.097417Z",
          "iopub.status.idle": "2021-11-07T15:21:48.099228Z",
          "shell.execute_reply.started": "2021-11-07T15:21:48.098901Z",
          "shell.execute_reply": "2021-11-07T15:21:48.098934Z"
        },
        "trusted": true
      },
      "source": [
        "answers=best_model.predict_proba(data_test_origin)[:,1]"
      ],
      "execution_count": null,
      "outputs": []
    },
    {
      "cell_type": "code",
      "metadata": {
        "id": "FfSufx0CEEZZ",
        "execution": {
          "iopub.status.busy": "2021-11-07T15:21:48.100999Z",
          "iopub.status.idle": "2021-11-07T15:21:48.102831Z",
          "shell.execute_reply.started": "2021-11-07T15:21:48.102509Z",
          "shell.execute_reply": "2021-11-07T15:21:48.102545Z"
        },
        "trusted": true
      },
      "source": [
        "submission = pd.read_csv('/content/drive/MyDrive/submission.csv')\n",
        "submission['Churn'] = answers\n",
        "submission.to_csv('/content/drive/MyDrive/my_submission.csv', index=False)"
      ],
      "execution_count": null,
      "outputs": []
    },
    {
      "cell_type": "markdown",
      "metadata": {
        "id": "mkxjbGkVEEZc"
      },
      "source": [
        "# Kaggle (5 баллов)\n",
        "\n",
        "Как выставить баллы:\n",
        "\n",
        "1) 1 >= roc auc > 0.84 это 5 баллов\n",
        "\n",
        "2) 0.84 >= roc auc > 0.7 это 3 балла\n",
        "\n",
        "3) 0.7 >= roc auc > 0.6 это 1 балл\n",
        "\n",
        "4) 0.6 >= roc auc это 0 баллов\n",
        "\n",
        "\n",
        "Для выполнения задания необходимо выполнить следующие шаги.\n",
        "* Зарегистрироваться на платформе [kaggle.com](kaggle.com). Процесс выставления оценок будет проходить при подведении итогового рейтинга. Пожалуйста, укажите во вкладке Team -> Team name свои имя и фамилию в формате Имя_Фамилия (важно, чтобы имя и фамилия совпадали с данными на Stepik).\n",
        "* Обучить модель, получить файл с ответами в формате .csv и сдать его в конкурс. Пробуйте и экспериментируйте. Обратите внимание, что вы можете выполнять до 20 попыток сдачи на kaggle в день.\n",
        "* После окончания соревнования отправить в итоговый ноутбук с решением на степик. \n",
        "* После дедлайна проверьте посылки других участников по критериям. Для этого надо зайти на степик, скачать их ноутбук и проверить скор в соревновании."
      ]
    }
  ]
}